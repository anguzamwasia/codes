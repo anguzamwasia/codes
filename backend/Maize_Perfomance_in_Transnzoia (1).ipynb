{
  "cells": [
    {
      "cell_type": "code",
      "execution_count": 1,
      "metadata": {
        "colab": {
          "base_uri": "https://localhost:8080/"
        },
        "id": "teQNnT1hfesB",
        "outputId": "84b70317-c81c-454d-c29a-b9fbf4992e2a"
      },
      "outputs": [
        {
          "output_type": "stream",
          "name": "stdout",
          "text": [
            "Mounted at /content/drive\n"
          ]
        }
      ],
      "source": [
        "from google.colab import drive\n",
        "drive.mount('/content/drive')"
      ]
    },
    {
      "cell_type": "code",
      "execution_count": 2,
      "metadata": {
        "colab": {
          "base_uri": "https://localhost:8080/"
        },
        "id": "iincb5pSfw2t",
        "outputId": "13b01e8a-bb2e-475e-b88c-768257ae5f4e"
      },
      "outputs": [
        {
          "output_type": "stream",
          "name": "stdout",
          "text": [
            "Requirement already satisfied: earthengine-api in /usr/local/lib/python3.10/dist-packages (1.2.0)\n",
            "Requirement already satisfied: google-cloud-storage in /usr/local/lib/python3.10/dist-packages (from earthengine-api) (2.8.0)\n",
            "Requirement already satisfied: google-api-python-client>=1.12.1 in /usr/local/lib/python3.10/dist-packages (from earthengine-api) (2.151.0)\n",
            "Requirement already satisfied: google-auth>=1.4.1 in /usr/local/lib/python3.10/dist-packages (from earthengine-api) (2.27.0)\n",
            "Requirement already satisfied: google-auth-httplib2>=0.0.3 in /usr/local/lib/python3.10/dist-packages (from earthengine-api) (0.2.0)\n",
            "Requirement already satisfied: httplib2<1dev,>=0.9.2 in /usr/local/lib/python3.10/dist-packages (from earthengine-api) (0.22.0)\n",
            "Requirement already satisfied: requests in /usr/local/lib/python3.10/dist-packages (from earthengine-api) (2.32.3)\n",
            "Requirement already satisfied: google-api-core!=2.0.*,!=2.1.*,!=2.2.*,!=2.3.0,<3.0.0.dev0,>=1.31.5 in /usr/local/lib/python3.10/dist-packages (from google-api-python-client>=1.12.1->earthengine-api) (2.19.2)\n",
            "Requirement already satisfied: uritemplate<5,>=3.0.1 in /usr/local/lib/python3.10/dist-packages (from google-api-python-client>=1.12.1->earthengine-api) (4.1.1)\n",
            "Requirement already satisfied: cachetools<6.0,>=2.0.0 in /usr/local/lib/python3.10/dist-packages (from google-auth>=1.4.1->earthengine-api) (5.5.0)\n",
            "Requirement already satisfied: pyasn1-modules>=0.2.1 in /usr/local/lib/python3.10/dist-packages (from google-auth>=1.4.1->earthengine-api) (0.4.1)\n",
            "Requirement already satisfied: rsa<5,>=3.1.4 in /usr/local/lib/python3.10/dist-packages (from google-auth>=1.4.1->earthengine-api) (4.9)\n",
            "Requirement already satisfied: pyparsing!=3.0.0,!=3.0.1,!=3.0.2,!=3.0.3,<4,>=2.4.2 in /usr/local/lib/python3.10/dist-packages (from httplib2<1dev,>=0.9.2->earthengine-api) (3.2.0)\n",
            "Requirement already satisfied: google-cloud-core<3.0dev,>=2.3.0 in /usr/local/lib/python3.10/dist-packages (from google-cloud-storage->earthengine-api) (2.4.1)\n",
            "Requirement already satisfied: google-resumable-media>=2.3.2 in /usr/local/lib/python3.10/dist-packages (from google-cloud-storage->earthengine-api) (2.7.2)\n",
            "Requirement already satisfied: charset-normalizer<4,>=2 in /usr/local/lib/python3.10/dist-packages (from requests->earthengine-api) (3.4.0)\n",
            "Requirement already satisfied: idna<4,>=2.5 in /usr/local/lib/python3.10/dist-packages (from requests->earthengine-api) (3.10)\n",
            "Requirement already satisfied: urllib3<3,>=1.21.1 in /usr/local/lib/python3.10/dist-packages (from requests->earthengine-api) (2.2.3)\n",
            "Requirement already satisfied: certifi>=2017.4.17 in /usr/local/lib/python3.10/dist-packages (from requests->earthengine-api) (2024.8.30)\n",
            "Requirement already satisfied: googleapis-common-protos<2.0.dev0,>=1.56.2 in /usr/local/lib/python3.10/dist-packages (from google-api-core!=2.0.*,!=2.1.*,!=2.2.*,!=2.3.0,<3.0.0.dev0,>=1.31.5->google-api-python-client>=1.12.1->earthengine-api) (1.66.0)\n",
            "Requirement already satisfied: protobuf!=3.20.0,!=3.20.1,!=4.21.0,!=4.21.1,!=4.21.2,!=4.21.3,!=4.21.4,!=4.21.5,<6.0.0.dev0,>=3.19.5 in /usr/local/lib/python3.10/dist-packages (from google-api-core!=2.0.*,!=2.1.*,!=2.2.*,!=2.3.0,<3.0.0.dev0,>=1.31.5->google-api-python-client>=1.12.1->earthengine-api) (4.25.5)\n",
            "Requirement already satisfied: proto-plus<2.0.0dev,>=1.22.3 in /usr/local/lib/python3.10/dist-packages (from google-api-core!=2.0.*,!=2.1.*,!=2.2.*,!=2.3.0,<3.0.0.dev0,>=1.31.5->google-api-python-client>=1.12.1->earthengine-api) (1.25.0)\n",
            "Requirement already satisfied: google-crc32c<2.0dev,>=1.0 in /usr/local/lib/python3.10/dist-packages (from google-resumable-media>=2.3.2->google-cloud-storage->earthengine-api) (1.6.0)\n",
            "Requirement already satisfied: pyasn1<0.7.0,>=0.4.6 in /usr/local/lib/python3.10/dist-packages (from pyasn1-modules>=0.2.1->google-auth>=1.4.1->earthengine-api) (0.6.1)\n",
            "Requirement already satisfied: joblib in /usr/local/lib/python3.10/dist-packages (1.4.2)\n"
          ]
        }
      ],
      "source": [
        "!pip install earthengine-api\n",
        "!pip install joblib"
      ]
    },
    {
      "cell_type": "code",
      "execution_count": 3,
      "metadata": {
        "colab": {
          "base_uri": "https://localhost:8080/"
        },
        "id": "ZEXbTOS4qDCi",
        "outputId": "74d3afeb-6220-456b-b81b-7552df24dfdf"
      },
      "outputs": [
        {
          "output_type": "stream",
          "name": "stdout",
          "text": [
            "Requirement already satisfied: earthengine-api in /usr/local/lib/python3.10/dist-packages (1.2.0)\n",
            "Requirement already satisfied: google-cloud-storage in /usr/local/lib/python3.10/dist-packages (from earthengine-api) (2.8.0)\n",
            "Requirement already satisfied: google-api-python-client>=1.12.1 in /usr/local/lib/python3.10/dist-packages (from earthengine-api) (2.151.0)\n",
            "Requirement already satisfied: google-auth>=1.4.1 in /usr/local/lib/python3.10/dist-packages (from earthengine-api) (2.27.0)\n",
            "Requirement already satisfied: google-auth-httplib2>=0.0.3 in /usr/local/lib/python3.10/dist-packages (from earthengine-api) (0.2.0)\n",
            "Requirement already satisfied: httplib2<1dev,>=0.9.2 in /usr/local/lib/python3.10/dist-packages (from earthengine-api) (0.22.0)\n",
            "Requirement already satisfied: requests in /usr/local/lib/python3.10/dist-packages (from earthengine-api) (2.32.3)\n",
            "Requirement already satisfied: google-api-core!=2.0.*,!=2.1.*,!=2.2.*,!=2.3.0,<3.0.0.dev0,>=1.31.5 in /usr/local/lib/python3.10/dist-packages (from google-api-python-client>=1.12.1->earthengine-api) (2.19.2)\n",
            "Requirement already satisfied: uritemplate<5,>=3.0.1 in /usr/local/lib/python3.10/dist-packages (from google-api-python-client>=1.12.1->earthengine-api) (4.1.1)\n",
            "Requirement already satisfied: cachetools<6.0,>=2.0.0 in /usr/local/lib/python3.10/dist-packages (from google-auth>=1.4.1->earthengine-api) (5.5.0)\n",
            "Requirement already satisfied: pyasn1-modules>=0.2.1 in /usr/local/lib/python3.10/dist-packages (from google-auth>=1.4.1->earthengine-api) (0.4.1)\n",
            "Requirement already satisfied: rsa<5,>=3.1.4 in /usr/local/lib/python3.10/dist-packages (from google-auth>=1.4.1->earthengine-api) (4.9)\n",
            "Requirement already satisfied: pyparsing!=3.0.0,!=3.0.1,!=3.0.2,!=3.0.3,<4,>=2.4.2 in /usr/local/lib/python3.10/dist-packages (from httplib2<1dev,>=0.9.2->earthengine-api) (3.2.0)\n",
            "Requirement already satisfied: google-cloud-core<3.0dev,>=2.3.0 in /usr/local/lib/python3.10/dist-packages (from google-cloud-storage->earthengine-api) (2.4.1)\n",
            "Requirement already satisfied: google-resumable-media>=2.3.2 in /usr/local/lib/python3.10/dist-packages (from google-cloud-storage->earthengine-api) (2.7.2)\n",
            "Requirement already satisfied: charset-normalizer<4,>=2 in /usr/local/lib/python3.10/dist-packages (from requests->earthengine-api) (3.4.0)\n",
            "Requirement already satisfied: idna<4,>=2.5 in /usr/local/lib/python3.10/dist-packages (from requests->earthengine-api) (3.10)\n",
            "Requirement already satisfied: urllib3<3,>=1.21.1 in /usr/local/lib/python3.10/dist-packages (from requests->earthengine-api) (2.2.3)\n",
            "Requirement already satisfied: certifi>=2017.4.17 in /usr/local/lib/python3.10/dist-packages (from requests->earthengine-api) (2024.8.30)\n",
            "Requirement already satisfied: googleapis-common-protos<2.0.dev0,>=1.56.2 in /usr/local/lib/python3.10/dist-packages (from google-api-core!=2.0.*,!=2.1.*,!=2.2.*,!=2.3.0,<3.0.0.dev0,>=1.31.5->google-api-python-client>=1.12.1->earthengine-api) (1.66.0)\n",
            "Requirement already satisfied: protobuf!=3.20.0,!=3.20.1,!=4.21.0,!=4.21.1,!=4.21.2,!=4.21.3,!=4.21.4,!=4.21.5,<6.0.0.dev0,>=3.19.5 in /usr/local/lib/python3.10/dist-packages (from google-api-core!=2.0.*,!=2.1.*,!=2.2.*,!=2.3.0,<3.0.0.dev0,>=1.31.5->google-api-python-client>=1.12.1->earthengine-api) (4.25.5)\n",
            "Requirement already satisfied: proto-plus<2.0.0dev,>=1.22.3 in /usr/local/lib/python3.10/dist-packages (from google-api-core!=2.0.*,!=2.1.*,!=2.2.*,!=2.3.0,<3.0.0.dev0,>=1.31.5->google-api-python-client>=1.12.1->earthengine-api) (1.25.0)\n",
            "Requirement already satisfied: google-crc32c<2.0dev,>=1.0 in /usr/local/lib/python3.10/dist-packages (from google-resumable-media>=2.3.2->google-cloud-storage->earthengine-api) (1.6.0)\n",
            "Requirement already satisfied: pyasn1<0.7.0,>=0.4.6 in /usr/local/lib/python3.10/dist-packages (from pyasn1-modules>=0.2.1->google-auth>=1.4.1->earthengine-api) (0.6.1)\n",
            "Requirement already satisfied: google-auth in /usr/local/lib/python3.10/dist-packages (2.27.0)\n",
            "Requirement already satisfied: cachetools<6.0,>=2.0.0 in /usr/local/lib/python3.10/dist-packages (from google-auth) (5.5.0)\n",
            "Requirement already satisfied: pyasn1-modules>=0.2.1 in /usr/local/lib/python3.10/dist-packages (from google-auth) (0.4.1)\n",
            "Requirement already satisfied: rsa<5,>=3.1.4 in /usr/local/lib/python3.10/dist-packages (from google-auth) (4.9)\n",
            "Requirement already satisfied: pyasn1<0.7.0,>=0.4.6 in /usr/local/lib/python3.10/dist-packages (from pyasn1-modules>=0.2.1->google-auth) (0.6.1)\n"
          ]
        }
      ],
      "source": [
        "!pip install earthengine-api\n",
        "!pip install google-auth"
      ]
    },
    {
      "cell_type": "code",
      "execution_count": 4,
      "metadata": {
        "colab": {
          "base_uri": "https://localhost:8080/"
        },
        "id": "u5gCx_wRs-Is",
        "outputId": "eacdacc4-a6c5-4720-c2f8-b8b386552c64"
      },
      "outputs": [
        {
          "output_type": "stream",
          "name": "stderr",
          "text": [
            "*** Earth Engine *** Share your feedback by taking our Annual Developer Satisfaction Survey: https://google.qualtrics.com/jfe/form/SV_0JLhFqfSY1uiEaW?source=Init\n"
          ]
        },
        {
          "output_type": "stream",
          "name": "stdout",
          "text": [
            "Google Earth Engine authenticated and initialized successfully!\n"
          ]
        }
      ],
      "source": [
        "import ee\n",
        "from datetime import date\n",
        "from joblib import dump\n",
        "\n",
        "# Path to your service account JSON file in Google Drive\n",
        "service_account_json = '/content/drive/My Drive/Learning/ee-penguincynthia-d20a99054f23.json'\n",
        "\n",
        "# Authenticate and initialize using the service account JSON\n",
        "credentials = ee.ServiceAccountCredentials(None, service_account_json)\n",
        "ee.Initialize(credentials)\n",
        "\n",
        "print(\"Google Earth Engine authenticated and initialized successfully!\")"
      ]
    },
    {
      "cell_type": "code",
      "execution_count": 5,
      "metadata": {
        "colab": {
          "base_uri": "https://localhost:8080/"
        },
        "id": "gzoYi7Z72Zbt",
        "outputId": "a41e29fc-7482-48c2-e136-8b0d9ce6f338"
      },
      "outputs": [
        {
          "output_type": "stream",
          "name": "stdout",
          "text": [
            "Using date range: 2017-03-01 to 2024-11-30\n"
          ]
        }
      ],
      "source": [
        "# Get today's date for dynamic filtering\n",
        "today = date.today()\n",
        "start_date = \"2017-03-01\"\n",
        "end_date = today.strftime(\"%Y-%m-%d\")  # Dynamic end date\n",
        "\n",
        "print(f\"Using date range: {start_date} to {end_date}\")"
      ]
    },
    {
      "cell_type": "code",
      "execution_count": null,
      "metadata": {
        "colab": {
          "base_uri": "https://localhost:8080/"
        },
        "id": "fn4YMWib2j4x",
        "outputId": "a6b8b336-b478-41dd-8176-58b6cc1e4266"
      },
      "outputs": [
        {
          "name": "stdout",
          "output_type": "stream",
          "text": [
            "Data loaded successfully!\n"
          ]
        },
        {
          "name": "stderr",
          "output_type": "stream",
          "text": [
            "/usr/local/lib/python3.10/dist-packages/ee/deprecation.py:207: DeprecationWarning: \n",
            "\n",
            "Attention required for COPERNICUS/S2! You are using a deprecated asset.\n",
            "To ensure continued functionality, please update it.\n",
            "Learn more: https://developers.google.com/earth-engine/datasets/catalog/COPERNICUS_S2\n",
            "\n",
            "  warnings.warn(warning, category=DeprecationWarning)\n"
          ]
        }
      ],
      "source": [
        "# Load administrative boundaries for Trans-Nzoia\n",
        "admin_boundaries = ee.FeatureCollection(\"FAO/GAUL/2015/level2\")\n",
        "trans_nzoia = admin_boundaries.filter(ee.Filter.eq(\"ADM2_NAME\", \"Trans Nzoia\"))\n",
        "\n",
        "# Load Sentinel-2 image collection and clip to Trans-Nzoia\n",
        "sentinel2 = ee.ImageCollection(\"COPERNICUS/S2\") \\\n",
        "    .filterDate(start_date, end_date) \\\n",
        "    .filterBounds(trans_nzoia) \\\n",
        "    .map(lambda image: image.clip(trans_nzoia))\n",
        "\n",
        "# Load Sentinel-1 image collection and clip to Trans-Nzoia\n",
        "sentinel1 = ee.ImageCollection(\"COPERNICUS/S1_GRD\") \\\n",
        "    .filterDate(start_date, end_date) \\\n",
        "    .filterBounds(trans_nzoia) \\\n",
        "    .filter(ee.Filter.listContains(\"transmitterReceiverPolarisation\", \"VV\")) \\\n",
        "    .filter(ee.Filter.listContains(\"transmitterReceiverPolarisation\", \"VH\")) \\\n",
        "    .filter(ee.Filter.eq(\"instrumentMode\", \"IW\")) \\\n",
        "    .map(lambda image: image.clip(trans_nzoia))\n",
        "\n",
        "print(\"Data loaded successfully!\")"
      ]
    },
    {
      "cell_type": "code",
      "execution_count": null,
      "metadata": {
        "colab": {
          "base_uri": "https://localhost:8080/"
        },
        "id": "_-76a4iv2rTc",
        "outputId": "5e332769-19b2-4907-c916-f45bc6817b6b"
      },
      "outputs": [
        {
          "name": "stdout",
          "output_type": "stream",
          "text": [
            "Index functions defined successfully!\n"
          ]
        }
      ],
      "source": [
        "# Define NDVI and EVI indices for Sentinel-2\n",
        "def add_indices(image):\n",
        "    ndvi = image.normalizedDifference(['B8', 'B4']).rename('NDVI')\n",
        "    evi = image.expression(\n",
        "        \"2.5 * ((NIR - RED) / (NIR + 6 * RED - 7.5 * BLUE + 10000))\", {\n",
        "            'NIR': image.select('B8'),\n",
        "            'RED': image.select('B4'),\n",
        "            'BLUE': image.select('B2')\n",
        "        }).rename('EVI')\n",
        "    return image.addBands([ndvi, evi])\n",
        "\n",
        "# Define RVI index for Sentinel-1\n",
        "def add_rvi(image):\n",
        "    rvi = image.expression(\n",
        "        \"sqrt(vv / (vv + vh)) * (vv / vh)\", {\n",
        "            'vv': image.select('VV'),\n",
        "            'vh': image.select('VH')\n",
        "        }).rename('RVI')\n",
        "    return image.addBands(rvi)\n",
        "\n",
        "print(\"Index functions defined successfully!\")"
      ]
    },
    {
      "cell_type": "code",
      "execution_count": null,
      "metadata": {
        "colab": {
          "base_uri": "https://localhost:8080/"
        },
        "id": "V9cGUzXp2y_k",
        "outputId": "61c0ca43-2b1b-4057-a9ba-29026e1c75fa"
      },
      "outputs": [
        {
          "name": "stdout",
          "output_type": "stream",
          "text": [
            "Indices added and collections combined successfully!\n"
          ]
        }
      ],
      "source": [
        "# Apply indices to Sentinel-2 and Sentinel-1\n",
        "sentinel2_with_indices = sentinel2.map(add_indices)\n",
        "sentinel1_with_rvi = sentinel1.map(add_rvi)\n",
        "\n",
        "# Combine the two collections\n",
        "combined_collection = sentinel2_with_indices.merge(sentinel1_with_rvi)\n",
        "print(\"Indices added and collections combined successfully!\")"
      ]
    },
    {
      "cell_type": "code",
      "execution_count": null,
      "metadata": {
        "colab": {
          "base_uri": "https://localhost:8080/",
          "height": 577
        },
        "id": "EM4c1aKk_7lg",
        "outputId": "3bb0b6ba-8276-4342-b883-56d5da54d090"
      },
      "outputs": [
        {
          "name": "stderr",
          "output_type": "stream",
          "text": [
            "<ipython-input-13-fabc5bef572a>:13: FutureWarning: 'M' is deprecated and will be removed in a future version, please use 'ME' instead.\n",
            "  dates = pd.date_range(start=start_date, end=end_date, freq=\"M\")\n"
          ]
        },
        {
          "data": {
            "text/html": [
              "<html>\n",
              "<head><meta charset=\"utf-8\" /></head>\n",
              "<body>\n",
              "    <div>            <script src=\"https://cdnjs.cloudflare.com/ajax/libs/mathjax/2.7.5/MathJax.js?config=TeX-AMS-MML_SVG\"></script><script type=\"text/javascript\">if (window.MathJax && window.MathJax.Hub && window.MathJax.Hub.Config) {window.MathJax.Hub.Config({SVG: {font: \"STIX-Web\"}});}</script>                <script type=\"text/javascript\">window.PlotlyConfig = {MathJaxConfig: 'local'};</script>\n",
              "        <script charset=\"utf-8\" src=\"https://cdn.plot.ly/plotly-2.35.2.min.js\"></script>                <div id=\"6648b0a1-0a7c-4308-85d1-7becaf06a42b\" class=\"plotly-graph-div\" style=\"height:525px; width:100%;\"></div>            <script type=\"text/javascript\">                                    window.PLOTLYENV=window.PLOTLYENV || {};                                    if (document.getElementById(\"6648b0a1-0a7c-4308-85d1-7becaf06a42b\")) {                    Plotly.newPlot(                        \"6648b0a1-0a7c-4308-85d1-7becaf06a42b\",                        [{\"hovertemplate\":\"Month: %{text}\\u003cbr\\u003eNDVI: %{y:.2f}\\u003cextra\\u003e\\u003c\\u002fextra\\u003e\",\"line\":{\"color\":\"green\"},\"mode\":\"lines+markers\",\"name\":\"NDVI\",\"text\":[\"March 2017\",\"April 2017\",\"May 2017\",\"June 2017\",\"July 2017\",\"August 2017\",\"September 2017\",\"October 2017\",\"November 2017\",\"December 2017\",\"January 2018\",\"February 2018\",\"March 2018\",\"April 2018\",\"May 2018\",\"June 2018\",\"July 2018\",\"August 2018\",\"September 2018\",\"October 2018\",\"November 2018\",\"December 2018\",\"January 2019\",\"February 2019\",\"March 2019\",\"April 2019\",\"May 2019\",\"June 2019\",\"July 2019\",\"August 2019\",\"September 2019\",\"October 2019\",\"November 2019\",\"December 2019\",\"January 2020\",\"February 2020\",\"March 2020\",\"April 2020\",\"May 2020\",\"June 2020\",\"July 2020\",\"August 2020\",\"September 2020\",\"October 2020\",\"November 2020\",\"December 2020\",\"January 2021\",\"February 2021\",\"March 2021\",\"April 2021\",\"May 2021\",\"June 2021\",\"July 2021\",\"August 2021\",\"September 2021\",\"October 2021\",\"November 2021\",\"December 2021\",\"January 2022\",\"February 2022\",\"March 2022\",\"April 2022\",\"May 2022\",\"June 2022\",\"July 2022\",\"August 2022\",\"September 2022\",\"October 2022\",\"November 2022\",\"December 2022\",\"January 2023\",\"February 2023\",\"March 2023\",\"April 2023\",\"May 2023\",\"June 2023\",\"July 2023\",\"August 2023\",\"September 2023\",\"October 2023\",\"November 2023\",\"December 2023\",\"January 2024\",\"February 2024\",\"March 2024\",\"April 2024\",\"May 2024\",\"June 2024\",\"July 2024\",\"August 2024\",\"September 2024\",\"October 2024\"],\"x\":[\"2017-03-31T00:00:00\",\"2017-04-30T00:00:00\",\"2017-05-31T00:00:00\",\"2017-06-30T00:00:00\",\"2017-07-31T00:00:00\",\"2017-08-31T00:00:00\",\"2017-09-30T00:00:00\",\"2017-10-31T00:00:00\",\"2017-11-30T00:00:00\",\"2017-12-31T00:00:00\",\"2018-01-31T00:00:00\",\"2018-02-28T00:00:00\",\"2018-03-31T00:00:00\",\"2018-04-30T00:00:00\",\"2018-05-31T00:00:00\",\"2018-06-30T00:00:00\",\"2018-07-31T00:00:00\",\"2018-08-31T00:00:00\",\"2018-09-30T00:00:00\",\"2018-10-31T00:00:00\",\"2018-11-30T00:00:00\",\"2018-12-31T00:00:00\",\"2019-01-31T00:00:00\",\"2019-02-28T00:00:00\",\"2019-03-31T00:00:00\",\"2019-04-30T00:00:00\",\"2019-05-31T00:00:00\",\"2019-06-30T00:00:00\",\"2019-07-31T00:00:00\",\"2019-08-31T00:00:00\",\"2019-09-30T00:00:00\",\"2019-10-31T00:00:00\",\"2019-11-30T00:00:00\",\"2019-12-31T00:00:00\",\"2020-01-31T00:00:00\",\"2020-02-29T00:00:00\",\"2020-03-31T00:00:00\",\"2020-04-30T00:00:00\",\"2020-05-31T00:00:00\",\"2020-06-30T00:00:00\",\"2020-07-31T00:00:00\",\"2020-08-31T00:00:00\",\"2020-09-30T00:00:00\",\"2020-10-31T00:00:00\",\"2020-11-30T00:00:00\",\"2020-12-31T00:00:00\",\"2021-01-31T00:00:00\",\"2021-02-28T00:00:00\",\"2021-03-31T00:00:00\",\"2021-04-30T00:00:00\",\"2021-05-31T00:00:00\",\"2021-06-30T00:00:00\",\"2021-07-31T00:00:00\",\"2021-08-31T00:00:00\",\"2021-09-30T00:00:00\",\"2021-10-31T00:00:00\",\"2021-11-30T00:00:00\",\"2021-12-31T00:00:00\",\"2022-01-31T00:00:00\",\"2022-02-28T00:00:00\",\"2022-03-31T00:00:00\",\"2022-04-30T00:00:00\",\"2022-05-31T00:00:00\",\"2022-06-30T00:00:00\",\"2022-07-31T00:00:00\",\"2022-08-31T00:00:00\",\"2022-09-30T00:00:00\",\"2022-10-31T00:00:00\",\"2022-11-30T00:00:00\",\"2022-12-31T00:00:00\",\"2023-01-31T00:00:00\",\"2023-02-28T00:00:00\",\"2023-03-31T00:00:00\",\"2023-04-30T00:00:00\",\"2023-05-31T00:00:00\",\"2023-06-30T00:00:00\",\"2023-07-31T00:00:00\",\"2023-08-31T00:00:00\",\"2023-09-30T00:00:00\",\"2023-10-31T00:00:00\",\"2023-11-30T00:00:00\",\"2023-12-31T00:00:00\",\"2024-01-31T00:00:00\",\"2024-02-29T00:00:00\",\"2024-03-31T00:00:00\",\"2024-04-30T00:00:00\",\"2024-05-31T00:00:00\",\"2024-06-30T00:00:00\",\"2024-07-31T00:00:00\",\"2024-08-31T00:00:00\",\"2024-09-30T00:00:00\",\"2024-10-31T00:00:00\"],\"y\":[0.19326726912505598,0.06497067816872204,0.7027081979271883,0.4534505629556418,0.21831845827737617,0.19445321857902087,0.13113366863894915,0.922694514262956,0.5946119259048576,0.7417542395194653,0.7070102451233437,0.6285388643371834,0.6972764317203934,0.06370897719145863,0.7894444779493514,0.5239793513765619,0.026404543944665626,0.8666988674235383,0.3927048667813927,0.8710169887734213,0.882114629413197,0.45231854399389926,0.8565223360899323,0.4887813877930385,0.4066096604024336,0.6312748855137693,0.9872862868571323,0.7421914690597048,0.6511688871022454,0.912754964748315,0.9564082614445731,0.3706237860770073,0.08421420660782986,0.8247429093195529,0.9628758968769603,0.0005243624745574493,0.30442126403281067,0.07979825343915958,0.24099493752556644,0.7136633888509115,0.361809380362206,0.21669825880182425,0.25309449774127035,0.2203467036153176,0.02899674807119379,0.771204476074375,0.858704016599897,0.06851964175683922,0.23263492072497105,0.2618044581152318,0.7929696000360891,0.36481416337213135,0.12297993603719115,0.03214682206905384,0.09002039050616106,0.49752287567733344,0.7945640478302507,0.7891275002498315,0.11414514905547646,0.4682581184812675,0.2245449573162399,0.716002669553992,0.016583984071271374,0.44278031687167807,0.5813012837391857,0.0006774547428683997,0.41073995511771233,0.7109965537094186,0.5602699301532367,0.14894356820561816,0.5498297666054146,0.20801324751063066,0.6321702009264999,0.6596579297955371,0.6642500688792178,0.2164396668734727,0.0038157655838672033,0.028716897257132223,0.6276135726930293,0.3261023337207223,0.12046605141481692,0.5067337894575611,0.9094038915804428,0.33474935675708595,0.15395171765301274,0.2855878025507246,0.2898481028600717,0.5816879183450374,0.06134962809482292,0.07306981306975946,0.5624363962545077,0.2802518432485661],\"type\":\"scatter\"},{\"hovertemplate\":\"Month: %{text}\\u003cbr\\u003eEVI: %{y:.2f}\\u003cextra\\u003e\\u003c\\u002fextra\\u003e\",\"line\":{\"color\":\"blue\"},\"mode\":\"lines+markers\",\"name\":\"EVI\",\"text\":[\"March 2017\",\"April 2017\",\"May 2017\",\"June 2017\",\"July 2017\",\"August 2017\",\"September 2017\",\"October 2017\",\"November 2017\",\"December 2017\",\"January 2018\",\"February 2018\",\"March 2018\",\"April 2018\",\"May 2018\",\"June 2018\",\"July 2018\",\"August 2018\",\"September 2018\",\"October 2018\",\"November 2018\",\"December 2018\",\"January 2019\",\"February 2019\",\"March 2019\",\"April 2019\",\"May 2019\",\"June 2019\",\"July 2019\",\"August 2019\",\"September 2019\",\"October 2019\",\"November 2019\",\"December 2019\",\"January 2020\",\"February 2020\",\"March 2020\",\"April 2020\",\"May 2020\",\"June 2020\",\"July 2020\",\"August 2020\",\"September 2020\",\"October 2020\",\"November 2020\",\"December 2020\",\"January 2021\",\"February 2021\",\"March 2021\",\"April 2021\",\"May 2021\",\"June 2021\",\"July 2021\",\"August 2021\",\"September 2021\",\"October 2021\",\"November 2021\",\"December 2021\",\"January 2022\",\"February 2022\",\"March 2022\",\"April 2022\",\"May 2022\",\"June 2022\",\"July 2022\",\"August 2022\",\"September 2022\",\"October 2022\",\"November 2022\",\"December 2022\",\"January 2023\",\"February 2023\",\"March 2023\",\"April 2023\",\"May 2023\",\"June 2023\",\"July 2023\",\"August 2023\",\"September 2023\",\"October 2023\",\"November 2023\",\"December 2023\",\"January 2024\",\"February 2024\",\"March 2024\",\"April 2024\",\"May 2024\",\"June 2024\",\"July 2024\",\"August 2024\",\"September 2024\",\"October 2024\"],\"x\":[\"2017-03-31T00:00:00\",\"2017-04-30T00:00:00\",\"2017-05-31T00:00:00\",\"2017-06-30T00:00:00\",\"2017-07-31T00:00:00\",\"2017-08-31T00:00:00\",\"2017-09-30T00:00:00\",\"2017-10-31T00:00:00\",\"2017-11-30T00:00:00\",\"2017-12-31T00:00:00\",\"2018-01-31T00:00:00\",\"2018-02-28T00:00:00\",\"2018-03-31T00:00:00\",\"2018-04-30T00:00:00\",\"2018-05-31T00:00:00\",\"2018-06-30T00:00:00\",\"2018-07-31T00:00:00\",\"2018-08-31T00:00:00\",\"2018-09-30T00:00:00\",\"2018-10-31T00:00:00\",\"2018-11-30T00:00:00\",\"2018-12-31T00:00:00\",\"2019-01-31T00:00:00\",\"2019-02-28T00:00:00\",\"2019-03-31T00:00:00\",\"2019-04-30T00:00:00\",\"2019-05-31T00:00:00\",\"2019-06-30T00:00:00\",\"2019-07-31T00:00:00\",\"2019-08-31T00:00:00\",\"2019-09-30T00:00:00\",\"2019-10-31T00:00:00\",\"2019-11-30T00:00:00\",\"2019-12-31T00:00:00\",\"2020-01-31T00:00:00\",\"2020-02-29T00:00:00\",\"2020-03-31T00:00:00\",\"2020-04-30T00:00:00\",\"2020-05-31T00:00:00\",\"2020-06-30T00:00:00\",\"2020-07-31T00:00:00\",\"2020-08-31T00:00:00\",\"2020-09-30T00:00:00\",\"2020-10-31T00:00:00\",\"2020-11-30T00:00:00\",\"2020-12-31T00:00:00\",\"2021-01-31T00:00:00\",\"2021-02-28T00:00:00\",\"2021-03-31T00:00:00\",\"2021-04-30T00:00:00\",\"2021-05-31T00:00:00\",\"2021-06-30T00:00:00\",\"2021-07-31T00:00:00\",\"2021-08-31T00:00:00\",\"2021-09-30T00:00:00\",\"2021-10-31T00:00:00\",\"2021-11-30T00:00:00\",\"2021-12-31T00:00:00\",\"2022-01-31T00:00:00\",\"2022-02-28T00:00:00\",\"2022-03-31T00:00:00\",\"2022-04-30T00:00:00\",\"2022-05-31T00:00:00\",\"2022-06-30T00:00:00\",\"2022-07-31T00:00:00\",\"2022-08-31T00:00:00\",\"2022-09-30T00:00:00\",\"2022-10-31T00:00:00\",\"2022-11-30T00:00:00\",\"2022-12-31T00:00:00\",\"2023-01-31T00:00:00\",\"2023-02-28T00:00:00\",\"2023-03-31T00:00:00\",\"2023-04-30T00:00:00\",\"2023-05-31T00:00:00\",\"2023-06-30T00:00:00\",\"2023-07-31T00:00:00\",\"2023-08-31T00:00:00\",\"2023-09-30T00:00:00\",\"2023-10-31T00:00:00\",\"2023-11-30T00:00:00\",\"2023-12-31T00:00:00\",\"2024-01-31T00:00:00\",\"2024-02-29T00:00:00\",\"2024-03-31T00:00:00\",\"2024-04-30T00:00:00\",\"2024-05-31T00:00:00\",\"2024-06-30T00:00:00\",\"2024-07-31T00:00:00\",\"2024-08-31T00:00:00\",\"2024-09-30T00:00:00\",\"2024-10-31T00:00:00\"],\"y\":[0.8394913917810848,0.01257458332663397,0.45704429827066195,0.9443284188305807,0.7728798876227797,0.05306502776895505,0.8557531084893477,0.3987548766258465,0.4046128586343163,0.8050628029991936,0.003790378881052159,0.7916344750076337,0.8965865620190088,0.09814490262832276,0.02806069267646194,0.20515376502237082,0.6952203842764815,0.9767168093275287,0.06524589716610629,0.7497513275002655,0.9916814392880516,0.14713430004389438,0.1646323908555556,0.5434238822288513,0.8763971900631322,0.7369347692135493,0.5062468036944697,0.706000212721735,0.8372823629501738,0.9052230491910612,0.3921353197565227,0.04618096519849757,0.8840898695244392,0.5284695224777416,0.06922466696610396,0.8489914316269023,0.3160351074877854,0.733216366178875,0.10658758482804864,0.8030364869359459,0.3461981556513961,0.3789003256685426,0.8601097296368034,0.9177190989810596,0.3401061757029834,0.32684137759087106,0.6688412763947628,0.36676829584398585,0.0031202837044895793,0.1510838896094584,0.5040233798449189,0.3353199523638172,0.6690834257777137,0.7233824772690106,0.5271103093276869,0.5923656341633927,0.10746650967991278,0.569135088180631,0.17600114136120992,0.1694321906780325,0.7488362377411296,0.03798328472546131,0.13816203276623584,0.7739672017258025,0.45606899407276913,0.28692792333455397,0.14814151498211003,0.03972103071338895,0.3726549573969514,0.2339820392162254,0.049303824719335365,0.4783393285483446,0.915207600078433,0.297942533302906,0.1557854988373757,0.8845447815114762,0.12078419681303765,0.6180502228631365,0.7114895459988068,0.7782216516297525,0.41680186401108577,0.9818926076068699,0.6186707559319067,0.5921823492119378,0.12287758936805604,0.7606422912932828,0.8576618438105595,0.7399441235318154,0.7325672709873658,0.6835890424392326,0.9671715612897888,0.5767567355564204],\"type\":\"scatter\"},{\"hovertemplate\":\"Month: %{text}\\u003cbr\\u003eRVI: %{y:.2f}\\u003cextra\\u003e\\u003c\\u002fextra\\u003e\",\"line\":{\"color\":\"red\"},\"mode\":\"lines+markers\",\"name\":\"RVI\",\"text\":[\"March 2017\",\"April 2017\",\"May 2017\",\"June 2017\",\"July 2017\",\"August 2017\",\"September 2017\",\"October 2017\",\"November 2017\",\"December 2017\",\"January 2018\",\"February 2018\",\"March 2018\",\"April 2018\",\"May 2018\",\"June 2018\",\"July 2018\",\"August 2018\",\"September 2018\",\"October 2018\",\"November 2018\",\"December 2018\",\"January 2019\",\"February 2019\",\"March 2019\",\"April 2019\",\"May 2019\",\"June 2019\",\"July 2019\",\"August 2019\",\"September 2019\",\"October 2019\",\"November 2019\",\"December 2019\",\"January 2020\",\"February 2020\",\"March 2020\",\"April 2020\",\"May 2020\",\"June 2020\",\"July 2020\",\"August 2020\",\"September 2020\",\"October 2020\",\"November 2020\",\"December 2020\",\"January 2021\",\"February 2021\",\"March 2021\",\"April 2021\",\"May 2021\",\"June 2021\",\"July 2021\",\"August 2021\",\"September 2021\",\"October 2021\",\"November 2021\",\"December 2021\",\"January 2022\",\"February 2022\",\"March 2022\",\"April 2022\",\"May 2022\",\"June 2022\",\"July 2022\",\"August 2022\",\"September 2022\",\"October 2022\",\"November 2022\",\"December 2022\",\"January 2023\",\"February 2023\",\"March 2023\",\"April 2023\",\"May 2023\",\"June 2023\",\"July 2023\",\"August 2023\",\"September 2023\",\"October 2023\",\"November 2023\",\"December 2023\",\"January 2024\",\"February 2024\",\"March 2024\",\"April 2024\",\"May 2024\",\"June 2024\",\"July 2024\",\"August 2024\",\"September 2024\",\"October 2024\"],\"x\":[\"2017-03-31T00:00:00\",\"2017-04-30T00:00:00\",\"2017-05-31T00:00:00\",\"2017-06-30T00:00:00\",\"2017-07-31T00:00:00\",\"2017-08-31T00:00:00\",\"2017-09-30T00:00:00\",\"2017-10-31T00:00:00\",\"2017-11-30T00:00:00\",\"2017-12-31T00:00:00\",\"2018-01-31T00:00:00\",\"2018-02-28T00:00:00\",\"2018-03-31T00:00:00\",\"2018-04-30T00:00:00\",\"2018-05-31T00:00:00\",\"2018-06-30T00:00:00\",\"2018-07-31T00:00:00\",\"2018-08-31T00:00:00\",\"2018-09-30T00:00:00\",\"2018-10-31T00:00:00\",\"2018-11-30T00:00:00\",\"2018-12-31T00:00:00\",\"2019-01-31T00:00:00\",\"2019-02-28T00:00:00\",\"2019-03-31T00:00:00\",\"2019-04-30T00:00:00\",\"2019-05-31T00:00:00\",\"2019-06-30T00:00:00\",\"2019-07-31T00:00:00\",\"2019-08-31T00:00:00\",\"2019-09-30T00:00:00\",\"2019-10-31T00:00:00\",\"2019-11-30T00:00:00\",\"2019-12-31T00:00:00\",\"2020-01-31T00:00:00\",\"2020-02-29T00:00:00\",\"2020-03-31T00:00:00\",\"2020-04-30T00:00:00\",\"2020-05-31T00:00:00\",\"2020-06-30T00:00:00\",\"2020-07-31T00:00:00\",\"2020-08-31T00:00:00\",\"2020-09-30T00:00:00\",\"2020-10-31T00:00:00\",\"2020-11-30T00:00:00\",\"2020-12-31T00:00:00\",\"2021-01-31T00:00:00\",\"2021-02-28T00:00:00\",\"2021-03-31T00:00:00\",\"2021-04-30T00:00:00\",\"2021-05-31T00:00:00\",\"2021-06-30T00:00:00\",\"2021-07-31T00:00:00\",\"2021-08-31T00:00:00\",\"2021-09-30T00:00:00\",\"2021-10-31T00:00:00\",\"2021-11-30T00:00:00\",\"2021-12-31T00:00:00\",\"2022-01-31T00:00:00\",\"2022-02-28T00:00:00\",\"2022-03-31T00:00:00\",\"2022-04-30T00:00:00\",\"2022-05-31T00:00:00\",\"2022-06-30T00:00:00\",\"2022-07-31T00:00:00\",\"2022-08-31T00:00:00\",\"2022-09-30T00:00:00\",\"2022-10-31T00:00:00\",\"2022-11-30T00:00:00\",\"2022-12-31T00:00:00\",\"2023-01-31T00:00:00\",\"2023-02-28T00:00:00\",\"2023-03-31T00:00:00\",\"2023-04-30T00:00:00\",\"2023-05-31T00:00:00\",\"2023-06-30T00:00:00\",\"2023-07-31T00:00:00\",\"2023-08-31T00:00:00\",\"2023-09-30T00:00:00\",\"2023-10-31T00:00:00\",\"2023-11-30T00:00:00\",\"2023-12-31T00:00:00\",\"2024-01-31T00:00:00\",\"2024-02-29T00:00:00\",\"2024-03-31T00:00:00\",\"2024-04-30T00:00:00\",\"2024-05-31T00:00:00\",\"2024-06-30T00:00:00\",\"2024-07-31T00:00:00\",\"2024-08-31T00:00:00\",\"2024-09-30T00:00:00\",\"2024-10-31T00:00:00\"],\"y\":[0.05467995413608473,0.8839039936784131,0.3882933917500394,0.4117519287878779,0.14053193949670229,0.04990479978380302,0.2651254101987278,0.03131553166309553,0.863829551174763,0.3775826696550192,0.24797742232157705,0.7753066040380346,0.8908051947256135,0.24093254466227676,0.70330590502254,0.5219283779883372,0.36742860700302893,0.34488072777808787,0.6981356473093628,0.9528592687318571,0.8116740680891644,0.19626436582529594,0.2246250265458758,0.21316372129953465,0.6963647165962722,0.45835351596672036,0.5693872197448465,0.843407039244438,0.9175398951847803,0.26054357312463183,0.34854322380706204,0.29060091409421707,0.5563345754260959,0.49463053970685344,0.40385221989054554,0.7235642132112171,0.43411814205944055,0.23752975957616462,0.5366826510054633,0.07458589760664514,0.5662038789642971,0.6918397328770546,0.2885632488685449,0.004089417038052101,0.4749376692444178,0.47169062899633496,0.47876702919260783,0.3358422038315563,0.889089404455985,0.01982435721887421,0.30825294887966226,0.16577965867879252,0.6334552264073706,0.23059038207348104,0.4491035560901906,0.7708094130852065,0.1644423753848253,0.18245961793976762,0.11858677979070353,0.11247125593186313,0.6959869630209866,0.8022981965965081,0.603039075292156,0.7988425915369806,0.5721661833455313,0.04660691165657416,0.8212404372369168,0.31685356016190147,0.19332805068601988,0.010086556341510788,0.03813610816031776,0.9358199282136576,0.4013928880477322,0.027438677021988878,0.6407474491841147,0.7023280041276238,0.599533969264136,0.5276446702055373,0.10853660857759218,0.17203832803523622,0.3304556295992027,0.35986409303395517,0.6226009876853159,0.638573365730547,0.5788605805749664,0.09805345019124245,0.26482812723959404,0.661179761684126,0.07060310510419465,0.21111996429569335,0.757152980177676,0.3093431159103571],\"type\":\"scatter\"}],                        {\"template\":{\"data\":{\"histogram2dcontour\":[{\"type\":\"histogram2dcontour\",\"colorbar\":{\"outlinewidth\":0,\"ticks\":\"\"},\"colorscale\":[[0.0,\"#0d0887\"],[0.1111111111111111,\"#46039f\"],[0.2222222222222222,\"#7201a8\"],[0.3333333333333333,\"#9c179e\"],[0.4444444444444444,\"#bd3786\"],[0.5555555555555556,\"#d8576b\"],[0.6666666666666666,\"#ed7953\"],[0.7777777777777778,\"#fb9f3a\"],[0.8888888888888888,\"#fdca26\"],[1.0,\"#f0f921\"]]}],\"choropleth\":[{\"type\":\"choropleth\",\"colorbar\":{\"outlinewidth\":0,\"ticks\":\"\"}}],\"histogram2d\":[{\"type\":\"histogram2d\",\"colorbar\":{\"outlinewidth\":0,\"ticks\":\"\"},\"colorscale\":[[0.0,\"#0d0887\"],[0.1111111111111111,\"#46039f\"],[0.2222222222222222,\"#7201a8\"],[0.3333333333333333,\"#9c179e\"],[0.4444444444444444,\"#bd3786\"],[0.5555555555555556,\"#d8576b\"],[0.6666666666666666,\"#ed7953\"],[0.7777777777777778,\"#fb9f3a\"],[0.8888888888888888,\"#fdca26\"],[1.0,\"#f0f921\"]]}],\"heatmap\":[{\"type\":\"heatmap\",\"colorbar\":{\"outlinewidth\":0,\"ticks\":\"\"},\"colorscale\":[[0.0,\"#0d0887\"],[0.1111111111111111,\"#46039f\"],[0.2222222222222222,\"#7201a8\"],[0.3333333333333333,\"#9c179e\"],[0.4444444444444444,\"#bd3786\"],[0.5555555555555556,\"#d8576b\"],[0.6666666666666666,\"#ed7953\"],[0.7777777777777778,\"#fb9f3a\"],[0.8888888888888888,\"#fdca26\"],[1.0,\"#f0f921\"]]}],\"heatmapgl\":[{\"type\":\"heatmapgl\",\"colorbar\":{\"outlinewidth\":0,\"ticks\":\"\"},\"colorscale\":[[0.0,\"#0d0887\"],[0.1111111111111111,\"#46039f\"],[0.2222222222222222,\"#7201a8\"],[0.3333333333333333,\"#9c179e\"],[0.4444444444444444,\"#bd3786\"],[0.5555555555555556,\"#d8576b\"],[0.6666666666666666,\"#ed7953\"],[0.7777777777777778,\"#fb9f3a\"],[0.8888888888888888,\"#fdca26\"],[1.0,\"#f0f921\"]]}],\"contourcarpet\":[{\"type\":\"contourcarpet\",\"colorbar\":{\"outlinewidth\":0,\"ticks\":\"\"}}],\"contour\":[{\"type\":\"contour\",\"colorbar\":{\"outlinewidth\":0,\"ticks\":\"\"},\"colorscale\":[[0.0,\"#0d0887\"],[0.1111111111111111,\"#46039f\"],[0.2222222222222222,\"#7201a8\"],[0.3333333333333333,\"#9c179e\"],[0.4444444444444444,\"#bd3786\"],[0.5555555555555556,\"#d8576b\"],[0.6666666666666666,\"#ed7953\"],[0.7777777777777778,\"#fb9f3a\"],[0.8888888888888888,\"#fdca26\"],[1.0,\"#f0f921\"]]}],\"surface\":[{\"type\":\"surface\",\"colorbar\":{\"outlinewidth\":0,\"ticks\":\"\"},\"colorscale\":[[0.0,\"#0d0887\"],[0.1111111111111111,\"#46039f\"],[0.2222222222222222,\"#7201a8\"],[0.3333333333333333,\"#9c179e\"],[0.4444444444444444,\"#bd3786\"],[0.5555555555555556,\"#d8576b\"],[0.6666666666666666,\"#ed7953\"],[0.7777777777777778,\"#fb9f3a\"],[0.8888888888888888,\"#fdca26\"],[1.0,\"#f0f921\"]]}],\"mesh3d\":[{\"type\":\"mesh3d\",\"colorbar\":{\"outlinewidth\":0,\"ticks\":\"\"}}],\"scatter\":[{\"fillpattern\":{\"fillmode\":\"overlay\",\"size\":10,\"solidity\":0.2},\"type\":\"scatter\"}],\"parcoords\":[{\"type\":\"parcoords\",\"line\":{\"colorbar\":{\"outlinewidth\":0,\"ticks\":\"\"}}}],\"scatterpolargl\":[{\"type\":\"scatterpolargl\",\"marker\":{\"colorbar\":{\"outlinewidth\":0,\"ticks\":\"\"}}}],\"bar\":[{\"error_x\":{\"color\":\"#2a3f5f\"},\"error_y\":{\"color\":\"#2a3f5f\"},\"marker\":{\"line\":{\"color\":\"#E5ECF6\",\"width\":0.5},\"pattern\":{\"fillmode\":\"overlay\",\"size\":10,\"solidity\":0.2}},\"type\":\"bar\"}],\"scattergeo\":[{\"type\":\"scattergeo\",\"marker\":{\"colorbar\":{\"outlinewidth\":0,\"ticks\":\"\"}}}],\"scatterpolar\":[{\"type\":\"scatterpolar\",\"marker\":{\"colorbar\":{\"outlinewidth\":0,\"ticks\":\"\"}}}],\"histogram\":[{\"marker\":{\"pattern\":{\"fillmode\":\"overlay\",\"size\":10,\"solidity\":0.2}},\"type\":\"histogram\"}],\"scattergl\":[{\"type\":\"scattergl\",\"marker\":{\"colorbar\":{\"outlinewidth\":0,\"ticks\":\"\"}}}],\"scatter3d\":[{\"type\":\"scatter3d\",\"line\":{\"colorbar\":{\"outlinewidth\":0,\"ticks\":\"\"}},\"marker\":{\"colorbar\":{\"outlinewidth\":0,\"ticks\":\"\"}}}],\"scattermapbox\":[{\"type\":\"scattermapbox\",\"marker\":{\"colorbar\":{\"outlinewidth\":0,\"ticks\":\"\"}}}],\"scatterternary\":[{\"type\":\"scatterternary\",\"marker\":{\"colorbar\":{\"outlinewidth\":0,\"ticks\":\"\"}}}],\"scattercarpet\":[{\"type\":\"scattercarpet\",\"marker\":{\"colorbar\":{\"outlinewidth\":0,\"ticks\":\"\"}}}],\"carpet\":[{\"aaxis\":{\"endlinecolor\":\"#2a3f5f\",\"gridcolor\":\"white\",\"linecolor\":\"white\",\"minorgridcolor\":\"white\",\"startlinecolor\":\"#2a3f5f\"},\"baxis\":{\"endlinecolor\":\"#2a3f5f\",\"gridcolor\":\"white\",\"linecolor\":\"white\",\"minorgridcolor\":\"white\",\"startlinecolor\":\"#2a3f5f\"},\"type\":\"carpet\"}],\"table\":[{\"cells\":{\"fill\":{\"color\":\"#EBF0F8\"},\"line\":{\"color\":\"white\"}},\"header\":{\"fill\":{\"color\":\"#C8D4E3\"},\"line\":{\"color\":\"white\"}},\"type\":\"table\"}],\"barpolar\":[{\"marker\":{\"line\":{\"color\":\"#E5ECF6\",\"width\":0.5},\"pattern\":{\"fillmode\":\"overlay\",\"size\":10,\"solidity\":0.2}},\"type\":\"barpolar\"}],\"pie\":[{\"automargin\":true,\"type\":\"pie\"}]},\"layout\":{\"autotypenumbers\":\"strict\",\"colorway\":[\"#636efa\",\"#EF553B\",\"#00cc96\",\"#ab63fa\",\"#FFA15A\",\"#19d3f3\",\"#FF6692\",\"#B6E880\",\"#FF97FF\",\"#FECB52\"],\"font\":{\"color\":\"#2a3f5f\"},\"hovermode\":\"closest\",\"hoverlabel\":{\"align\":\"left\"},\"paper_bgcolor\":\"white\",\"plot_bgcolor\":\"#E5ECF6\",\"polar\":{\"bgcolor\":\"#E5ECF6\",\"angularaxis\":{\"gridcolor\":\"white\",\"linecolor\":\"white\",\"ticks\":\"\"},\"radialaxis\":{\"gridcolor\":\"white\",\"linecolor\":\"white\",\"ticks\":\"\"}},\"ternary\":{\"bgcolor\":\"#E5ECF6\",\"aaxis\":{\"gridcolor\":\"white\",\"linecolor\":\"white\",\"ticks\":\"\"},\"baxis\":{\"gridcolor\":\"white\",\"linecolor\":\"white\",\"ticks\":\"\"},\"caxis\":{\"gridcolor\":\"white\",\"linecolor\":\"white\",\"ticks\":\"\"}},\"coloraxis\":{\"colorbar\":{\"outlinewidth\":0,\"ticks\":\"\"}},\"colorscale\":{\"sequential\":[[0.0,\"#0d0887\"],[0.1111111111111111,\"#46039f\"],[0.2222222222222222,\"#7201a8\"],[0.3333333333333333,\"#9c179e\"],[0.4444444444444444,\"#bd3786\"],[0.5555555555555556,\"#d8576b\"],[0.6666666666666666,\"#ed7953\"],[0.7777777777777778,\"#fb9f3a\"],[0.8888888888888888,\"#fdca26\"],[1.0,\"#f0f921\"]],\"sequentialminus\":[[0.0,\"#0d0887\"],[0.1111111111111111,\"#46039f\"],[0.2222222222222222,\"#7201a8\"],[0.3333333333333333,\"#9c179e\"],[0.4444444444444444,\"#bd3786\"],[0.5555555555555556,\"#d8576b\"],[0.6666666666666666,\"#ed7953\"],[0.7777777777777778,\"#fb9f3a\"],[0.8888888888888888,\"#fdca26\"],[1.0,\"#f0f921\"]],\"diverging\":[[0,\"#8e0152\"],[0.1,\"#c51b7d\"],[0.2,\"#de77ae\"],[0.3,\"#f1b6da\"],[0.4,\"#fde0ef\"],[0.5,\"#f7f7f7\"],[0.6,\"#e6f5d0\"],[0.7,\"#b8e186\"],[0.8,\"#7fbc41\"],[0.9,\"#4d9221\"],[1,\"#276419\"]]},\"xaxis\":{\"gridcolor\":\"white\",\"linecolor\":\"white\",\"ticks\":\"\",\"title\":{\"standoff\":15},\"zerolinecolor\":\"white\",\"automargin\":true,\"zerolinewidth\":2},\"yaxis\":{\"gridcolor\":\"white\",\"linecolor\":\"white\",\"ticks\":\"\",\"title\":{\"standoff\":15},\"zerolinecolor\":\"white\",\"automargin\":true,\"zerolinewidth\":2},\"scene\":{\"xaxis\":{\"backgroundcolor\":\"#E5ECF6\",\"gridcolor\":\"white\",\"linecolor\":\"white\",\"showbackground\":true,\"ticks\":\"\",\"zerolinecolor\":\"white\",\"gridwidth\":2},\"yaxis\":{\"backgroundcolor\":\"#E5ECF6\",\"gridcolor\":\"white\",\"linecolor\":\"white\",\"showbackground\":true,\"ticks\":\"\",\"zerolinecolor\":\"white\",\"gridwidth\":2},\"zaxis\":{\"backgroundcolor\":\"#E5ECF6\",\"gridcolor\":\"white\",\"linecolor\":\"white\",\"showbackground\":true,\"ticks\":\"\",\"zerolinecolor\":\"white\",\"gridwidth\":2}},\"shapedefaults\":{\"line\":{\"color\":\"#2a3f5f\"}},\"annotationdefaults\":{\"arrowcolor\":\"#2a3f5f\",\"arrowhead\":0,\"arrowwidth\":1},\"geo\":{\"bgcolor\":\"white\",\"landcolor\":\"#E5ECF6\",\"subunitcolor\":\"white\",\"showland\":true,\"showlakes\":true,\"lakecolor\":\"white\"},\"title\":{\"x\":0.05},\"mapbox\":{\"style\":\"light\"}}},\"xaxis\":{\"title\":{\"text\":\"Date\"},\"tickformat\":\"%b %Y\",\"showgrid\":true},\"yaxis\":{\"title\":{\"text\":\"Index Value\"},\"showgrid\":true},\"legend\":{\"title\":{\"text\":\"Indices\"},\"orientation\":\"h\",\"yanchor\":\"bottom\",\"y\":1.02,\"xanchor\":\"center\",\"x\":0.5},\"title\":{\"text\":\"Interactive Plot of NDVI, EVI, and RVI\"},\"hovermode\":\"x unified\"},                        {\"responsive\": true}                    ).then(function(){\n",
              "                            \n",
              "var gd = document.getElementById('6648b0a1-0a7c-4308-85d1-7becaf06a42b');\n",
              "var x = new MutationObserver(function (mutations, observer) {{\n",
              "        var display = window.getComputedStyle(gd).display;\n",
              "        if (!display || display === 'none') {{\n",
              "            console.log([gd, 'removed!']);\n",
              "            Plotly.purge(gd);\n",
              "            observer.disconnect();\n",
              "        }}\n",
              "}});\n",
              "\n",
              "// Listen for the removal of the full notebook cells\n",
              "var notebookContainer = gd.closest('#notebook-container');\n",
              "if (notebookContainer) {{\n",
              "    x.observe(notebookContainer, {childList: true});\n",
              "}}\n",
              "\n",
              "// Listen for the clearing of the current output cell\n",
              "var outputEl = gd.closest('.output');\n",
              "if (outputEl) {{\n",
              "    x.observe(outputEl, {childList: true});\n",
              "}}\n",
              "\n",
              "                        })                };                            </script>        </div>\n",
              "</body>\n",
              "</html>"
            ]
          },
          "metadata": {},
          "output_type": "display_data"
        }
      ],
      "source": [
        "import plotly.graph_objects as go\n",
        "import pandas as pd\n",
        "import numpy as np\n",
        "from datetime import date\n",
        "\n",
        "# Get today's date for dynamic filtering\n",
        "today = date.today()\n",
        "start_date = \"2017-03-01\"\n",
        "end_date = today.strftime(\"%Y-%m-%d\")  # Dynamic end date\n",
        "\n",
        "# Simulated Data for Plotting\n",
        "# Replace this with real data extracted from your GEE collection\n",
        "dates = pd.date_range(start=start_date, end=end_date, freq=\"M\")\n",
        "ndvi_values = np.random.uniform(0, 1, len(dates))  # Simulated NDVI\n",
        "evi_values = np.random.uniform(0, 1, len(dates))   # Simulated EVI\n",
        "rvi_values = np.random.uniform(0, 1, len(dates))   # Simulated RVI\n",
        "\n",
        "# Create a DataFrame for better handling\n",
        "data = pd.DataFrame({\n",
        "    'Date': dates,\n",
        "    'Year': dates.year,\n",
        "    'Month': dates.month_name(),\n",
        "    'NDVI': ndvi_values,\n",
        "    'EVI': evi_values,\n",
        "    'RVI': rvi_values\n",
        "})\n",
        "\n",
        "# Filter Data by Dynamic Start and End Date\n",
        "filtered_data = data[(data['Date'] >= pd.Timestamp(start_date)) &\n",
        "                     (data['Date'] <= pd.Timestamp(end_date))]\n",
        "\n",
        "# Plotly Interactive Visualization\n",
        "fig = go.Figure()\n",
        "\n",
        "# Add NDVI Line\n",
        "fig.add_trace(go.Scatter(\n",
        "    x=filtered_data['Date'],\n",
        "    y=filtered_data['NDVI'],\n",
        "    mode='lines+markers',\n",
        "    name='NDVI',\n",
        "    line=dict(color='green'),\n",
        "    text=filtered_data['Month'] + \" \" + filtered_data['Year'].astype(str),  # Hover text\n",
        "    hovertemplate='Month: %{text}<br>NDVI: %{y:.2f}<extra></extra>'\n",
        "))\n",
        "\n",
        "# Add EVI Line\n",
        "fig.add_trace(go.Scatter(\n",
        "    x=filtered_data['Date'],\n",
        "    y=filtered_data['EVI'],\n",
        "    mode='lines+markers',\n",
        "    name='EVI',\n",
        "    line=dict(color='blue'),\n",
        "    text=filtered_data['Month'] + \" \" + filtered_data['Year'].astype(str),  # Hover text\n",
        "    hovertemplate='Month: %{text}<br>EVI: %{y:.2f}<extra></extra>'\n",
        "))\n",
        "\n",
        "# Add RVI Line\n",
        "fig.add_trace(go.Scatter(\n",
        "    x=filtered_data['Date'],\n",
        "    y=filtered_data['RVI'],\n",
        "    mode='lines+markers',\n",
        "    name='RVI',\n",
        "    line=dict(color='red'),\n",
        "    text=filtered_data['Month'] + \" \" + filtered_data['Year'].astype(str),  # Hover text\n",
        "    hovertemplate='Month: %{text}<br>RVI: %{y:.2f}<extra></extra>'\n",
        "))\n",
        "\n",
        "# Update Layout for Better Visualization\n",
        "fig.update_layout(\n",
        "    title='Interactive Plot of NDVI, EVI, and RVI',\n",
        "    xaxis_title='Date',\n",
        "    yaxis_title='Index Value',\n",
        "    xaxis=dict(\n",
        "        tickformat='%b %Y',  # Format ticks as \"Month Year\"\n",
        "        showgrid=True\n",
        "    ),\n",
        "    yaxis=dict(\n",
        "        showgrid=True\n",
        "    ),\n",
        "    hovermode='x unified',  # Shows hover info for all traces at once\n",
        "    legend=dict(\n",
        "        title='Indices',\n",
        "        orientation=\"h\",\n",
        "        yanchor=\"bottom\",\n",
        "        y=1.02,\n",
        "        xanchor=\"center\",\n",
        "        x=0.5\n",
        "    )\n",
        ")\n",
        "\n",
        "# Show the Plot\n",
        "fig.show()"
      ]
    },
    {
      "cell_type": "code",
      "execution_count": null,
      "metadata": {
        "colab": {
          "background_save": true,
          "base_uri": "https://localhost:8080/"
        },
        "id": "kACAYGH1BLsj",
        "outputId": "b5190180-93f2-44c0-dec4-44186f1b8b49"
      },
      "outputs": [
        {
          "name": "stderr",
          "output_type": "stream",
          "text": [
            "<ipython-input-14-272a0ac9ec6d>:15: FutureWarning:\n",
            "\n",
            "'M' is deprecated and will be removed in a future version, please use 'ME' instead.\n",
            "\n"
          ]
        },
        {
          "name": "stdout",
          "output_type": "stream",
          "text": [
            "Enter the start and end dates for filtering the data:\n"
          ]
        }
      ],
      "source": [
        "import plotly.graph_objects as go\n",
        "import pandas as pd\n",
        "import numpy as np\n",
        "from datetime import date\n",
        "\n",
        "# Get today's date for dynamic filtering\n",
        "today = date.today()\n",
        "\n",
        "# Default Start and End Dates\n",
        "default_start_date = \"2017-03-01\"\n",
        "default_end_date = today.strftime(\"%Y-%m-%d\")  # Current date as default end\n",
        "\n",
        "# Simulated Data for Plotting\n",
        "# Replace this with real data extracted from your GEE collection\n",
        "dates = pd.date_range(start=default_start_date, end=default_end_date, freq=\"M\")\n",
        "ndvi_values = np.random.uniform(0, 1, len(dates))  # Simulated NDVI\n",
        "evi_values = np.random.uniform(0, 1, len(dates))   # Simulated EVI\n",
        "rvi_values = np.random.uniform(0, 1, len(dates))   # Simulated RVI\n",
        "\n",
        "# Create a DataFrame for better handling\n",
        "data = pd.DataFrame({\n",
        "    'Date': dates,\n",
        "    'Year': dates.year,\n",
        "    'Month': dates.month_name(),\n",
        "    'NDVI': ndvi_values,\n",
        "    'EVI': evi_values,\n",
        "    'RVI': rvi_values\n",
        "})\n",
        "\n",
        "# Dynamic User Input for Start and End Dates\n",
        "print(\"Enter the start and end dates for filtering the data:\")\n",
        "start_date = input(f\"Start Date (YYYY-MM-DD) [Default: {default_start_date}]: \") or default_start_date\n",
        "end_date = input(f\"End Date (YYYY-MM-DD) [Default: {default_end_date}]: \") or default_end_date\n",
        "\n",
        "# Validate Date Inputs\n",
        "try:\n",
        "    start_date = pd.to_datetime(start_date)\n",
        "    end_date = pd.to_datetime(end_date)\n",
        "    if start_date > end_date:\n",
        "        raise ValueError(\"Start date cannot be later than end date.\")\n",
        "except Exception as e:\n",
        "    print(f\"Invalid date input: {e}. Using default dates.\")\n",
        "    start_date = pd.to_datetime(default_start_date)\n",
        "    end_date = pd.to_datetime(default_end_date)\n",
        "\n",
        "# Filter Data Based on Input Dates\n",
        "filtered_data = data[(data['Date'] >= start_date) &\n",
        "                     (data['Date'] <= end_date)]\n",
        "\n",
        "# Plotly Interactive Visualization\n",
        "fig = go.Figure()\n",
        "\n",
        "# Add NDVI Line\n",
        "fig.add_trace(go.Scatter(\n",
        "    x=filtered_data['Date'],\n",
        "    y=filtered_data['NDVI'],\n",
        "    mode='lines+markers',\n",
        "    name='NDVI',\n",
        "    line=dict(color='green'),\n",
        "    text=filtered_data['Month'] + \" \" + filtered_data['Year'].astype(str),  # Hover text\n",
        "    hovertemplate='Month: %{text}<br>NDVI: %{y:.2f}<extra></extra>'\n",
        "))\n",
        "\n",
        "# Add EVI Line\n",
        "fig.add_trace(go.Scatter(\n",
        "    x=filtered_data['Date'],\n",
        "    y=filtered_data['EVI'],\n",
        "    mode='lines+markers',\n",
        "    name='EVI',\n",
        "    line=dict(color='blue'),\n",
        "    text=filtered_data['Month'] + \" \" + filtered_data['Year'].astype(str),  # Hover text\n",
        "    hovertemplate='Month: %{text}<br>EVI: %{y:.2f}<extra></extra>'\n",
        "))\n",
        "\n",
        "# Add RVI Line\n",
        "fig.add_trace(go.Scatter(\n",
        "    x=filtered_data['Date'],\n",
        "    y=filtered_data['RVI'],\n",
        "    mode='lines+markers',\n",
        "    name='RVI',\n",
        "    line=dict(color='red'),\n",
        "    text=filtered_data['Month'] + \" \" + filtered_data['Year'].astype(str),  # Hover text\n",
        "    hovertemplate='Month: %{text}<br>RVI: %{y:.2f}<extra></extra>'\n",
        "))\n",
        "\n",
        "# Update Layout for Better Visualization\n",
        "fig.update_layout(\n",
        "    title=f'Interactive Plot of NDVI, EVI, and RVI ({start_date.date()} to {end_date.date()})',\n",
        "    xaxis_title='Date',\n",
        "    yaxis_title='Index Value',\n",
        "    xaxis=dict(\n",
        "        tickformat='%b %Y',  # Format ticks as \"Month Year\"\n",
        "        showgrid=True\n",
        "    ),\n",
        "    yaxis=dict(\n",
        "        showgrid=True\n",
        "    ),\n",
        "    hovermode='x unified',  # Shows hover info for all traces at once\n",
        "    legend=dict(\n",
        "        title='Indices',\n",
        "        orientation=\"h\",\n",
        "        yanchor=\"bottom\",\n",
        "        y=1.02,\n",
        "        xanchor=\"center\",\n",
        "        x=0.5\n",
        "    )\n",
        ")\n",
        "\n",
        "# Show the Plot\n",
        "fig.show()"
      ]
    },
    {
      "cell_type": "code",
      "execution_count": null,
      "metadata": {
        "colab": {
          "base_uri": "https://localhost:8080/"
        },
        "id": "dNV9UPJD286M",
        "outputId": "ceebefd3-68c0-46f6-d2a1-4290ebcb3de1"
      },
      "outputs": [
        {
          "name": "stdout",
          "output_type": "stream",
          "text": [
            "Model saved successfully at /content/drive/My Drive/Learning/gee_analysis_model.joblib!\n"
          ]
        }
      ],
      "source": [
        " # Save the processed collection as a model using joblib\n",
        "model_path = '/content/drive/My Drive/Learning/gee_analysis_model.joblib'\n",
        "dump(combined_collection, model_path)\n",
        "\n",
        "print(f\"Model saved successfully at {model_path}!\")"
      ]
    }
  ],
  "metadata": {
    "colab": {
      "provenance": []
    },
    "kernelspec": {
      "display_name": "Python 3",
      "name": "python3"
    },
    "language_info": {
      "name": "python"
    }
  },
  "nbformat": 4,
  "nbformat_minor": 0
}